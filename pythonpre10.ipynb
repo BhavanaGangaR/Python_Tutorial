{
 "cells": [
  {
   "cell_type": "code",
   "execution_count": 1,
   "metadata": {},
   "outputs": [],
   "source": [
    "#scope"
   ]
  },
  {
   "cell_type": "code",
   "execution_count": 2,
   "metadata": {},
   "outputs": [
    {
     "name": "stdout",
     "output_type": "stream",
     "text": [
      "10\n"
     ]
    }
   ],
   "source": [
    "#local_scope\n",
    "\n",
    "def fun1():\n",
    "    x=10\n",
    "    print(x)\n",
    "    \n",
    "fun1()\n",
    "\n",
    "#print(x)"
   ]
  },
  {
   "cell_type": "code",
   "execution_count": 9,
   "metadata": {},
   "outputs": [
    {
     "name": "stdout",
     "output_type": "stream",
     "text": [
      "outfun:  10\n",
      "infun:  10\n"
     ]
    }
   ],
   "source": [
    "#enclosing_scope\n",
    "\n",
    "def outfun():\n",
    "    x=10\n",
    "    print('outfun: ',x)\n",
    "    def infun():\n",
    "        print(\"infun: \",x)\n",
    "    infun()\n",
    "outfun()"
   ]
  },
  {
   "cell_type": "code",
   "execution_count": 12,
   "metadata": {},
   "outputs": [
    {
     "name": "stdout",
     "output_type": "stream",
     "text": [
      "global 10\n",
      "outfun 10\n",
      "infun 10\n"
     ]
    }
   ],
   "source": [
    "#global_scope\n",
    "\n",
    "x=10\n",
    "def fun():\n",
    "    print(\"outfun\",x)\n",
    "    def fun1():\n",
    "        print('infun',x)\n",
    "    fun1()\n",
    "    \n",
    "print('global',x)\n",
    "fun()"
   ]
  },
  {
   "cell_type": "code",
   "execution_count": 18,
   "metadata": {},
   "outputs": [
    {
     "name": "stdout",
     "output_type": "stream",
     "text": [
      "5\n",
      "global 10\n"
     ]
    }
   ],
   "source": [
    "x=10\n",
    "def fun():\n",
    "    x=5\n",
    "    print(x)\n",
    "    \n",
    "fun()\n",
    "print(\"global\",x)"
   ]
  },
  {
   "cell_type": "code",
   "execution_count": 21,
   "metadata": {},
   "outputs": [
    {
     "name": "stdout",
     "output_type": "stream",
     "text": [
      "5\n",
      "global 5\n"
     ]
    }
   ],
   "source": [
    "#global keyword\n",
    "\n",
    "x=10\n",
    "def fun():\n",
    "    global x\n",
    "    x = 5\n",
    "    print(x)\n",
    "fun()\n",
    "print('global',x)"
   ]
  },
  {
   "cell_type": "code",
   "execution_count": 23,
   "metadata": {},
   "outputs": [
    {
     "name": "stdout",
     "output_type": "stream",
     "text": [
      "5\n",
      "global 15\n"
     ]
    }
   ],
   "source": [
    "#globals()\n",
    "\n",
    "x=10\n",
    "def fun():\n",
    "    x=5\n",
    "    a=globals()['x']\n",
    "    print(x)\n",
    "    globals()['x']=15\n",
    "    \n",
    "fun()\n",
    "print('global',x)"
   ]
  },
  {
   "cell_type": "code",
   "execution_count": 28,
   "metadata": {},
   "outputs": [
    {
     "name": "stdout",
     "output_type": "stream",
     "text": [
      "f1 10\n",
      "f2 5\n",
      "f3 5\n",
      "global 10\n"
     ]
    }
   ],
   "source": [
    "#order of execution\n",
    "\n",
    "x=10\n",
    "def fun1():\n",
    "    print('f1',x)\n",
    "    def fun2():\n",
    "        x=5\n",
    "        print('f2',x)\n",
    "        def fun3():\n",
    "            print('f3',x)\n",
    "        fun3()\n",
    "    fun2()  \n",
    "fun1()\n",
    "print(\"global\",x)   "
   ]
  },
  {
   "cell_type": "code",
   "execution_count": null,
   "metadata": {},
   "outputs": [],
   "source": []
  }
 ],
 "metadata": {
  "kernelspec": {
   "display_name": "Python 3",
   "language": "python",
   "name": "python3"
  },
  "language_info": {
   "codemirror_mode": {
    "name": "ipython",
    "version": 3
   },
   "file_extension": ".py",
   "mimetype": "text/x-python",
   "name": "python",
   "nbconvert_exporter": "python",
   "pygments_lexer": "ipython3",
   "version": "3.7.1"
  }
 },
 "nbformat": 4,
 "nbformat_minor": 2
}
