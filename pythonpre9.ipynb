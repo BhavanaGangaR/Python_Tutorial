{
 "cells": [
  {
   "cell_type": "code",
   "execution_count": 3,
   "metadata": {},
   "outputs": [
    {
     "name": "stdout",
     "output_type": "stream",
     "text": [
      "python coding\n"
     ]
    }
   ],
   "source": [
    "#functions\n",
    "\n",
    "def printsta():\n",
    "    print('python coding')\n",
    "    \n",
    "printsta()"
   ]
  },
  {
   "cell_type": "code",
   "execution_count": 9,
   "metadata": {},
   "outputs": [
    {
     "name": "stdout",
     "output_type": "stream",
     "text": [
      "15\n"
     ]
    }
   ],
   "source": [
    "def add():\n",
    "    a=10\n",
    "    b=5\n",
    "    c=a+b\n",
    "    print(c)\n",
    "    \n",
    "add()"
   ]
  },
  {
   "cell_type": "code",
   "execution_count": 11,
   "metadata": {},
   "outputs": [
    {
     "name": "stdout",
     "output_type": "stream",
     "text": [
      "12\n"
     ]
    }
   ],
   "source": [
    "#passing parameters/arguments to function\n",
    "\n",
    "def add(a,b):\n",
    "    c=a+b\n",
    "    print(c)\n",
    "    \n",
    "add(10,2)"
   ]
  },
  {
   "cell_type": "code",
   "execution_count": 12,
   "metadata": {},
   "outputs": [
    {
     "name": "stdout",
     "output_type": "stream",
     "text": [
      "I am learning python coding\n"
     ]
    }
   ],
   "source": [
    "def printstat(a):\n",
    "    print('I am learning {}'.format(a))\n",
    "    \n",
    "printstat(\"python coding\")    "
   ]
  },
  {
   "cell_type": "code",
   "execution_count": 14,
   "metadata": {},
   "outputs": [
    {
     "name": "stdout",
     "output_type": "stream",
     "text": [
      "1\n",
      "2\n",
      "3\n",
      "4\n",
      "5\n"
     ]
    }
   ],
   "source": [
    "def lists(list1):\n",
    "    for i in list1:\n",
    "        print(i)\n",
    "\n",
    "lists([1,2,3,4,5])"
   ]
  },
  {
   "cell_type": "code",
   "execution_count": 29,
   "metadata": {},
   "outputs": [
    {
     "name": "stdout",
     "output_type": "stream",
     "text": [
      "13 7\n"
     ]
    }
   ],
   "source": [
    "#return\n",
    "\n",
    "\n",
    "def addsub(a,b):\n",
    "    c=a+b\n",
    "    d=a-b\n",
    "    return c,d\n",
    "\n",
    "c,d = addsub(10,3)\n",
    "print(c,d)"
   ]
  },
  {
   "cell_type": "code",
   "execution_count": 36,
   "metadata": {},
   "outputs": [
    {
     "name": "stdout",
     "output_type": "stream",
     "text": [
      "a = 140712518530000\n",
      "a = 140712518530160\n",
      "a= 10\n",
      "x =  140712518530000\n",
      "x= 5\n"
     ]
    }
   ],
   "source": [
    "#arguments\n",
    "\n",
    "def lst(a):\n",
    "    print('a =',id(a))\n",
    "    a=10\n",
    "    print('a =',id(a))\n",
    "    print('a=',a)\n",
    "\n",
    "x=5\n",
    "lst(x)\n",
    "print('x = ',id(x))\n",
    "print('x=',x)"
   ]
  },
  {
   "cell_type": "code",
   "execution_count": 37,
   "metadata": {},
   "outputs": [
    {
     "name": "stdout",
     "output_type": "stream",
     "text": [
      "a = 861731141512\n",
      "a = 861731141512\n",
      "a= [1, 0, 3, 4, 5]\n",
      "x =  861731141512\n",
      "x= [1, 0, 3, 4, 5]\n"
     ]
    }
   ],
   "source": [
    "def lst(a):\n",
    "    print('a =',id(a))\n",
    "    a[1] = 0\n",
    "    print('a =',id(a))\n",
    "    print('a=',a)\n",
    "\n",
    "x=[1,2,3,4,5]\n",
    "lst(x)\n",
    "print('x = ',id(x))\n",
    "print('x=',x)"
   ]
  },
  {
   "cell_type": "code",
   "execution_count": 40,
   "metadata": {},
   "outputs": [
    {
     "name": "stdout",
     "output_type": "stream",
     "text": [
      "name = Ganga rank = 1\n"
     ]
    }
   ],
   "source": [
    "def student(name,rank):\n",
    "    print('name = {} rank = {}'.format(name,rank))\n",
    "    \n",
    "student('Ganga',1) #position"
   ]
  },
  {
   "cell_type": "code",
   "execution_count": 42,
   "metadata": {},
   "outputs": [
    {
     "name": "stdout",
     "output_type": "stream",
     "text": [
      "name = Vinay rank = 4\n"
     ]
    }
   ],
   "source": [
    "student(rank = 4,name = 'Vinay') #keyword"
   ]
  },
  {
   "cell_type": "code",
   "execution_count": 1,
   "metadata": {},
   "outputs": [
    {
     "name": "stdout",
     "output_type": "stream",
     "text": [
      "name = Bhavana rank = 1\n"
     ]
    }
   ],
   "source": [
    "def student(name,rank=1):\n",
    "    print('name = {} rank = {}'.format(name,rank))\n",
    "\n",
    "student('Bhavana') #default"
   ]
  },
  {
   "cell_type": "code",
   "execution_count": 1,
   "metadata": {},
   "outputs": [
    {
     "name": "stdout",
     "output_type": "stream",
     "text": [
      "10\n"
     ]
    }
   ],
   "source": [
    "def add(a,*b):\n",
    "    for i in b:\n",
    "        a=a+i\n",
    "    print(a)\n",
    "    \n",
    "\n",
    "add(4,3,1,2) #variable length"
   ]
  },
  {
   "cell_type": "code",
   "execution_count": 84,
   "metadata": {},
   "outputs": [
    {
     "name": "stdout",
     "output_type": "stream",
     "text": [
      "John\n",
      "age 30\n",
      "place England\n",
      "mobno 123456890\n"
     ]
    }
   ],
   "source": [
    "def person(name, **data):\n",
    "    print(name)\n",
    "    for i,j in data.items():\n",
    "        print(i,j)\n",
    "        \n",
    "person('John', age=30, place='England', mobno = 123456890) #keyworded variable length"
   ]
  },
  {
   "cell_type": "code",
   "execution_count": 90,
   "metadata": {},
   "outputs": [
    {
     "name": "stdout",
     "output_type": "stream",
     "text": [
      "fun1\n",
      "fun2\n",
      "fun3\n"
     ]
    }
   ],
   "source": [
    "#function calling function\n",
    "\n",
    "def fun1():\n",
    "    print('fun1')\n",
    "    fun2()\n",
    "    \n",
    "def fun2():\n",
    "    print('fun2')\n",
    "    fun3()\n",
    "        \n",
    "def fun3():\n",
    "    print('fun3')\n",
    "\n",
    "\n",
    "fun1()               "
   ]
  },
  {
   "cell_type": "code",
   "execution_count": 8,
   "metadata": {},
   "outputs": [
    {
     "name": "stdout",
     "output_type": "stream",
     "text": [
      "1\n",
      "2\n",
      "3\n",
      "4\n",
      "5\n"
     ]
    }
   ],
   "source": [
    "#recursive or recursion function\n",
    "\n",
    "i = 1\n",
    "def fun():\n",
    "    global i\n",
    "    if (i<=5):\n",
    "        print(i)\n",
    "        i=i+1\n",
    "        fun()\n",
    "\n",
    "fun()"
   ]
  },
  {
   "cell_type": "code",
   "execution_count": null,
   "metadata": {},
   "outputs": [],
   "source": []
  }
 ],
 "metadata": {
  "kernelspec": {
   "display_name": "Python 3",
   "language": "python",
   "name": "python3"
  },
  "language_info": {
   "codemirror_mode": {
    "name": "ipython",
    "version": 3
   },
   "file_extension": ".py",
   "mimetype": "text/x-python",
   "name": "python",
   "nbconvert_exporter": "python",
   "pygments_lexer": "ipython3",
   "version": "3.7.1"
  }
 },
 "nbformat": 4,
 "nbformat_minor": 2
}
