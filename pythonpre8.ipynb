{
 "cells": [
  {
   "cell_type": "code",
   "execution_count": 1,
   "metadata": {},
   "outputs": [
    {
     "name": "stdout",
     "output_type": "stream",
     "text": [
      "Python coding\n",
      "Python coding\n",
      "Python coding\n",
      "Python coding\n",
      "Python coding\n"
     ]
    }
   ],
   "source": [
    "#while loop\n",
    "\n",
    "i=1\n",
    "while (i<=5):\n",
    "    print('Python coding')\n",
    "    i=i+1"
   ]
  },
  {
   "cell_type": "code",
   "execution_count": 2,
   "metadata": {},
   "outputs": [
    {
     "name": "stdout",
     "output_type": "stream",
     "text": [
      "python coding\n",
      "python coding\n",
      "python coding\n",
      "python coding\n",
      "python coding\n",
      "6\n"
     ]
    }
   ],
   "source": [
    "#while-else loop\n",
    "\n",
    "i=1\n",
    "while (i<=5):\n",
    "    print('python coding')\n",
    "    i=i+1\n",
    "else:\n",
    "    print(i)    "
   ]
  },
  {
   "cell_type": "code",
   "execution_count": 3,
   "metadata": {},
   "outputs": [
    {
     "name": "stdout",
     "output_type": "stream",
     "text": [
      "1\n",
      "1.2\n",
      "xyz\n",
      "True\n",
      "abc\n"
     ]
    }
   ],
   "source": [
    "#for loop\n",
    "\n",
    "x = [1, 1.2, 'xyz', True, 'abc']\n",
    "for i in x:\n",
    "    print(i)"
   ]
  },
  {
   "cell_type": "code",
   "execution_count": 4,
   "metadata": {},
   "outputs": [
    {
     "name": "stdout",
     "output_type": "stream",
     "text": [
      "1\n",
      "3\n",
      "5\n",
      "7\n",
      "9\n"
     ]
    }
   ],
   "source": [
    "#range\n",
    "\n",
    "for i in range(1,10,2):\n",
    "    print(i)"
   ]
  },
  {
   "cell_type": "code",
   "execution_count": 21,
   "metadata": {},
   "outputs": [
    {
     "name": "stdout",
     "output_type": "stream",
     "text": [
      "how many candies you want10\n",
      "out of stock\n"
     ]
    }
   ],
   "source": [
    "#break\n",
    "\n",
    "c=5\n",
    "x = int(input (\"how many candies you want\")) \n",
    "\n",
    "i=1\n",
    "while (i<=x):\n",
    "    if(x > c):\n",
    "        print('out of stock')\n",
    "        break\n",
    "    else:\n",
    "            print('candies')\n",
    "            i+=1"
   ]
  },
  {
   "cell_type": "code",
   "execution_count": 22,
   "metadata": {},
   "outputs": [
    {
     "name": "stdout",
     "output_type": "stream",
     "text": [
      "2\n",
      "4\n",
      "6\n",
      "8\n",
      "10\n"
     ]
    }
   ],
   "source": [
    "#continue\n",
    "\n",
    "i=1\n",
    "while(i<=10):\n",
    "    i+=1\n",
    "    if(i%2!=0):\n",
    "        continue\n",
    "    else:\n",
    "        print(i)"
   ]
  },
  {
   "cell_type": "code",
   "execution_count": 23,
   "metadata": {},
   "outputs": [
    {
     "name": "stdout",
     "output_type": "stream",
     "text": [
      "2\n",
      "4\n",
      "6\n",
      "8\n",
      "10\n"
     ]
    }
   ],
   "source": [
    "#pass\n",
    "\n",
    "i=1\n",
    "while(i<=10):\n",
    "    i+=1\n",
    "    if(i%2!=0):\n",
    "        pass\n",
    "    else:\n",
    "        print(i)"
   ]
  },
  {
   "cell_type": "code",
   "execution_count": 24,
   "metadata": {},
   "outputs": [],
   "source": [
    "i=1\n",
    "if(i<5):\n",
    "    pass\n"
   ]
  },
  {
   "cell_type": "code",
   "execution_count": null,
   "metadata": {},
   "outputs": [],
   "source": []
  }
 ],
 "metadata": {
  "kernelspec": {
   "display_name": "Python 3",
   "language": "python",
   "name": "python3"
  },
  "language_info": {
   "codemirror_mode": {
    "name": "ipython",
    "version": 3
   },
   "file_extension": ".py",
   "mimetype": "text/x-python",
   "name": "python",
   "nbconvert_exporter": "python",
   "pygments_lexer": "ipython3",
   "version": "3.7.1"
  }
 },
 "nbformat": 4,
 "nbformat_minor": 2
}
