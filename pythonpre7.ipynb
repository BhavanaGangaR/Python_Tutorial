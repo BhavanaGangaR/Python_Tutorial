{
 "cells": [
  {
   "cell_type": "code",
   "execution_count": 5,
   "metadata": {},
   "outputs": [
    {
     "name": "stdout",
     "output_type": "stream",
     "text": [
      "Equal numbers\n"
     ]
    }
   ],
   "source": [
    "#if-elif-else condition\n",
    "\n",
    "a=10\n",
    "b=10\n",
    "\n",
    "if(a==b):\n",
    "    print(\"Equal numbers\")"
   ]
  },
  {
   "cell_type": "code",
   "execution_count": 8,
   "metadata": {},
   "outputs": [
    {
     "name": "stdout",
     "output_type": "stream",
     "text": [
      "Equal numbers\n",
      "abc\n"
     ]
    }
   ],
   "source": [
    "if(a==b):\n",
    "    print(\"Equal numbers\")\n",
    "    print(\"abc\")\n",
    "else:\n",
    "    print(\"Unequal numbers\")"
   ]
  },
  {
   "cell_type": "code",
   "execution_count": 11,
   "metadata": {},
   "outputs": [
    {
     "name": "stdout",
     "output_type": "stream",
     "text": [
      "x greater than y\n"
     ]
    }
   ],
   "source": [
    "x=5\n",
    "y=0\n",
    "\n",
    "if(x>y and x>0):\n",
    "    print(\"x greater than y\")\n",
    "elif(x==y):\n",
    "    print(\"x equal to y\")\n",
    "else:\n",
    "    print(\"x less than y\")"
   ]
  },
  {
   "cell_type": "code",
   "execution_count": null,
   "metadata": {},
   "outputs": [],
   "source": []
  }
 ],
 "metadata": {
  "kernelspec": {
   "display_name": "Python 3",
   "language": "python",
   "name": "python3"
  },
  "language_info": {
   "codemirror_mode": {
    "name": "ipython",
    "version": 3
   },
   "file_extension": ".py",
   "mimetype": "text/x-python",
   "name": "python",
   "nbconvert_exporter": "python",
   "pygments_lexer": "ipython3",
   "version": "3.7.1"
  }
 },
 "nbformat": 4,
 "nbformat_minor": 2
}
