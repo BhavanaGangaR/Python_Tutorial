{
 "cells": [
  {
   "cell_type": "code",
   "execution_count": 1,
   "metadata": {},
   "outputs": [],
   "source": [
    "#class\n",
    "\n",
    "class comp:\n",
    "    pass"
   ]
  },
  {
   "cell_type": "code",
   "execution_count": 27,
   "metadata": {},
   "outputs": [],
   "source": [
    "#object\n",
    "\n",
    "comp1=comp()"
   ]
  },
  {
   "cell_type": "code",
   "execution_count": 29,
   "metadata": {},
   "outputs": [
    {
     "name": "stdout",
     "output_type": "stream",
     "text": [
      "inside init\n"
     ]
    }
   ],
   "source": [
    "#__init__() method\n",
    "\n",
    "class comp:\n",
    "    def __init__(self):\n",
    "        print('inside init')\n",
    "\n",
    "comp1=comp()"
   ]
  },
  {
   "cell_type": "code",
   "execution_count": 38,
   "metadata": {},
   "outputs": [
    {
     "name": "stdout",
     "output_type": "stream",
     "text": [
      "Nokia\n",
      "Manager\n",
      "Intel\n",
      "CEO\n"
     ]
    }
   ],
   "source": [
    "#self parameter\n",
    "\n",
    "class comp:\n",
    "    def __init__(self,cname,job):\n",
    "        self.cname = cname\n",
    "        self.job = job\n",
    "\n",
    "c1=comp('Nokia','Manager')\n",
    "c2=comp('Intel','CEO') \n",
    "\n",
    "print(c1.cname)\n",
    "print(c1.job)\n",
    "print(c2.cname)\n",
    "print(c2.job)"
   ]
  },
  {
   "cell_type": "code",
   "execution_count": 6,
   "metadata": {},
   "outputs": [
    {
     "name": "stdout",
     "output_type": "stream",
     "text": [
      "I use Dell\n"
     ]
    }
   ],
   "source": [
    "class comp:\n",
    "    def com(self):\n",
    "        print('I use Dell')\n",
    "        \n",
    "        \n",
    "comp1=comp()\n",
    "\n",
    "comp1.com()"
   ]
  },
  {
   "cell_type": "code",
   "execution_count": 11,
   "metadata": {},
   "outputs": [
    {
     "name": "stdout",
     "output_type": "stream",
     "text": [
      "inside init\n",
      "I stay in Bangalore\n"
     ]
    }
   ],
   "source": [
    "class place:\n",
    "    def __init__(self):\n",
    "        print(\"inside init\")\n",
    "    def state(self):\n",
    "        print(\"I stay in Bangalore\")\n",
    "\n",
    "p1=place()\n",
    "\n",
    "p1.state()"
   ]
  },
  {
   "cell_type": "code",
   "execution_count": 1,
   "metadata": {},
   "outputs": [
    {
     "name": "stdout",
     "output_type": "stream",
     "text": [
      "procedural programming is c and object programming is c++\n",
      "procedural programming is pascal and object programming is java\n"
     ]
    }
   ],
   "source": [
    "class prog:\n",
    "    def __init__(self,proc,obj):\n",
    "        self.procedure=proc\n",
    "        self.object=obj\n",
    "    def pro1(self):\n",
    "        print('procedural programming is {} and object programming is {}'.format(self.procedure,self.object))\n",
    "       \n",
    "    \n",
    "        \n",
    "p1=prog('c','c++')\n",
    "p2=prog(\"pascal\",'java')\n",
    "\n",
    "p1.pro1()\n",
    "p2.pro1()"
   ]
  },
  {
   "cell_type": "code",
   "execution_count": 52,
   "metadata": {},
   "outputs": [
    {
     "name": "stdout",
     "output_type": "stream",
     "text": [
      "my role is manager in company Dell at Bangalore\n",
      "I work in HP at Hyderabad\n",
      "I work for 10 hours in HP at Hyderabad\n"
     ]
    }
   ],
   "source": [
    "class comp():\n",
    "    def __init__(self,name,location):\n",
    "        self.na=name\n",
    "        self.lo=location\n",
    "    def c1(self,job):\n",
    "        print('my role is {} in company {} at {}'.format(job,self.na,self.lo))\n",
    "    def c2(self):\n",
    "        print('I work in {} at {}'.format(self.na,self.lo))\n",
    "    def c3(self, hours=10):\n",
    "        print('I work for {} hours in {} at {}'.format(hours,self.na,self.lo))\n",
    "\n",
    "co1=comp('Dell','Bangalore')\n",
    "co2=comp('HP','Hyderabad')\n",
    "\n",
    "co1.c1('manager')\n",
    "co2.c2()\n",
    "co2.c3()"
   ]
  },
  {
   "cell_type": "code",
   "execution_count": null,
   "metadata": {},
   "outputs": [],
   "source": []
  }
 ],
 "metadata": {
  "kernelspec": {
   "display_name": "Python 3",
   "language": "python",
   "name": "python3"
  },
  "language_info": {
   "codemirror_mode": {
    "name": "ipython",
    "version": 3
   },
   "file_extension": ".py",
   "mimetype": "text/x-python",
   "name": "python",
   "nbconvert_exporter": "python",
   "pygments_lexer": "ipython3",
   "version": "3.7.1"
  }
 },
 "nbformat": 4,
 "nbformat_minor": 2
}
